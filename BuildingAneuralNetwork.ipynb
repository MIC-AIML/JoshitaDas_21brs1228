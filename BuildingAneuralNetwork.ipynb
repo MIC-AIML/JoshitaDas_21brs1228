{
  "nbformat": 4,
  "nbformat_minor": 0,
  "metadata": {
    "colab": {
      "provenance": []
    },
    "kernelspec": {
      "name": "python3",
      "display_name": "Python 3"
    },
    "language_info": {
      "name": "python"
    }
  },
  "cells": [
    {
      "cell_type": "code",
      "execution_count": null,
      "metadata": {
        "id": "5xZ5fJwSwRNO"
      },
      "outputs": [],
      "source": [
        "# coding a sigmoid neuro and give the output for the following inputs "
      ]
    },
    {
      "cell_type": "code",
      "source": [
        "import math\n",
        "def sigmoidNeuron(values, weights) -> float:\n",
        "  weighted_sum = sum([value *  weight for (value, weight)in zip(values, weights[1:])])\n",
        "  return (1/(1+ pow(math.e, -weighted_sum)))"
      ],
      "metadata": {
        "id": "sk1s9aJryQuo"
      },
      "execution_count": null,
      "outputs": []
    },
    {
      "cell_type": "code",
      "source": [],
      "metadata": {
        "id": "EzwCOFq7BTP0"
      },
      "execution_count": null,
      "outputs": []
    },
    {
      "cell_type": "code",
      "source": [
        "inputs = [(0.5, 3.5, 2), (2, 4.8, -5)]\n",
        "weights = (1.3, -3.8, 4.6)\n",
        "print(sigmoidNeuron(inputs[0], weights))\n",
        "print(sigmoidNeuron(inputs[1], weights))"
      ],
      "metadata": {
        "colab": {
          "base_uri": "https://localhost:8080/"
        },
        "id": "nyAdNIPKplxr",
        "outputId": "cd3e8492-e3d1-4a98-e1c3-6c48401b5ddf"
      },
      "execution_count": null,
      "outputs": [
        {
          "output_type": "stream",
          "name": "stdout",
          "text": [
            "0.9999993192023292\n",
            "0.9999994854641036\n"
          ]
        }
      ]
    },
    {
      "cell_type": "code",
      "source": [
        "import numpy as np"
      ],
      "metadata": {
        "id": "KFK0bUs2sNlK"
      },
      "execution_count": null,
      "outputs": []
    },
    {
      "cell_type": "code",
      "source": [],
      "metadata": {
        "id": "vN1fRlFTXLve"
      },
      "execution_count": null,
      "outputs": []
    },
    {
      "cell_type": "code",
      "source": [
        "def neuron(w: list, x: list) -> float:\n",
        "  return np.array(w)@np.array(x)"
      ],
      "metadata": {
        "id": "LrD4f93br_W_"
      },
      "execution_count": null,
      "outputs": []
    },
    {
      "cell_type": "code",
      "source": [
        "neuron([1.3, -3.8, 4.6], [0.5, 3.5, 2])"
      ],
      "metadata": {
        "colab": {
          "base_uri": "https://localhost:8080/"
        },
        "id": "xdePEKzUsTPq",
        "outputId": "abfac71c-771e-41b0-8deb-7421c42ab014"
      },
      "execution_count": null,
      "outputs": [
        {
          "output_type": "execute_result",
          "data": {
            "text/plain": [
              "-3.4499999999999993"
            ]
          },
          "metadata": {},
          "execution_count": 12
        }
      ]
    },
    {
      "cell_type": "code",
      "source": [
        "def sigmoid(x: float) -> float:\n",
        "    return 1/(1 + np.exp(-x))"
      ],
      "metadata": {
        "id": "xYNHAvhSsVko"
      },
      "execution_count": null,
      "outputs": []
    },
    {
      "cell_type": "code",
      "source": [
        "def sigmoid_neuron(w: list, x: list) -> float:\n",
        "    return sigmoid(neuron(w, x))"
      ],
      "metadata": {
        "id": "1-aKcUdystwJ"
      },
      "execution_count": null,
      "outputs": []
    },
    {
      "cell_type": "code",
      "source": [
        "#making a neuron"
      ],
      "metadata": {
        "id": "-MTpTl8BxIdL"
      },
      "execution_count": null,
      "outputs": []
    },
    {
      "cell_type": "code",
      "source": [
        "import numpy as np\n"
      ],
      "metadata": {
        "id": "jpEHjDjxxMBg"
      },
      "execution_count": null,
      "outputs": []
    },
    {
      "cell_type": "code",
      "source": [
        "def sigmoid(x: float) -> float:\n",
        "  return 1/(1 + np.exp(-x))\n",
        "\n",
        "class neuron:\n",
        "  def __init__(self, weights: list):\n",
        "    self.weights = np.array(weights)\n",
        "  \n",
        "  def compute(self, values: list) -> float:\n",
        "    return self.weights@np.array(values)\n",
        "  \n",
        "  def output(self, values: list) -> float:\n",
        "    return sigmoid(self.compute(values))"
      ],
      "metadata": {
        "id": "GW-Y7DtBxQB3"
      },
      "execution_count": null,
      "outputs": []
    },
    {
      "cell_type": "code",
      "source": [
        "n1 = neuron([1.3, -3.8, 4.6])"
      ],
      "metadata": {
        "id": "ZHXJFTmkyuk9"
      },
      "execution_count": null,
      "outputs": []
    },
    {
      "cell_type": "code",
      "source": [
        "n1.output([0.5, 3.5, 2])"
      ],
      "metadata": {
        "colab": {
          "base_uri": "https://localhost:8080/"
        },
        "id": "nIJQUm6x2FRS",
        "outputId": "a9c41861-df1a-4c09-caca-1cd9c985f35b"
      },
      "execution_count": null,
      "outputs": [
        {
          "output_type": "execute_result",
          "data": {
            "text/plain": [
              "0.030768859357148036"
            ]
          },
          "metadata": {},
          "execution_count": 18
        }
      ]
    },
    {
      "cell_type": "code",
      "source": [],
      "metadata": {
        "id": "_YCWH1hN_HFA"
      },
      "execution_count": null,
      "outputs": []
    }
  ]
}